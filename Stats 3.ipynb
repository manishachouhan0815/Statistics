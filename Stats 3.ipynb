{
 "cells": [
  {
   "cell_type": "markdown",
   "metadata": {},
   "source": [
    "###### Question Link -->   https://drive.google.com/file/d/1apNU32NJqVGZYskMMhrSPLT_yVvhfzbU/view"
   ]
  },
  {
   "cell_type": "markdown",
   "metadata": {},
   "source": [
    "### Problem Statement 1:"
   ]
  },
  {
   "cell_type": "markdown",
   "metadata": {},
   "source": [
    "1)--> Yes, both values in the statement are about distribution/population having equal values and ineuality in null hypothesis.<br>\n",
    "2)--> No, null hypothesis has claim equality and alternate hypothesis has inequality.<br>\n",
    "3)--> No, hypothesis is stated in terms of statistics and not sample data.<br>\n",
    "4)--> No, hypothesis are always about population or distributionand not about sample.<br>"
   ]
  },
  {
   "cell_type": "markdown",
   "metadata": {},
   "source": [
    "### Problem Statement 2:"
   ]
  },
  {
   "cell_type": "code",
   "execution_count": 1,
   "metadata": {},
   "outputs": [
    {
     "name": "stdout",
     "output_type": "stream",
     "text": [
      "Z score is  1.7777777777777715\n",
      "Critical region is -1.9599639845400545,1.9599639845400545\n",
      "/--------------------------------------------------------------------------------------------/\n",
      "With this we can conclude that null hypothesis can be accepted since Z-score < critical region\n"
     ]
    }
   ],
   "source": [
    "import pandas as pd \n",
    "import numpy as np \n",
    "import scipy.stats as stats \n",
    "from scipy.stats import norm \n",
    "from scipy.stats import chi2_contingency\n",
    "import math\n",
    "\n",
    "Pmean=52\n",
    "Pstd=4.50\n",
    "n=100\n",
    "sample_mean=52.80\n",
    "SE=Pstd/n**0.5\n",
    "Z=((sample_mean)-(Pmean))/SE\n",
    "print('Z score is ',Z)\n",
    "alpha=0.05 \n",
    "print(f\"Critical region is {norm.ppf(alpha/2)},{-norm.ppf(alpha/2)}\")\n",
    "print('/--------------------------------------------------------------------------------------------/')\n",
    "print('With this we can conclude that null hypothesis can be accepted since Z-score < critical region')"
   ]
  },
  {
   "cell_type": "markdown",
   "metadata": {},
   "source": [
    "### Problem Statement 3: "
   ]
  },
  {
   "cell_type": "code",
   "execution_count": 2,
   "metadata": {},
   "outputs": [
    {
     "name": "stdout",
     "output_type": "stream",
     "text": [
      "Z score is  -1.3258252147247767\n",
      "Critical region is -2.575829303548901, 2.575829303548901\n",
      "/--------------------------------------------------------------------------------------------/\n",
      "With this we can colclude that null hypothesis can be accepted since critical region < Z-score\n"
     ]
    }
   ],
   "source": [
    "Pmean=34\n",
    "Pstd=8\n",
    "n=50\n",
    "sample_mean=32.5\n",
    "SE=Pstd/n**0.5\n",
    "Z=((sample_mean)-(Pmean))/SE\n",
    "print('Z score is ',Z)\n",
    "alpha=0.01\n",
    "print(f\"Critical region is {norm.ppf(alpha/2)}, {-norm.ppf(alpha/2)}\")\n",
    "print(\"/--------------------------------------------------------------------------------------------/\")\n",
    "print('With this we can colclude that null hypothesis can be accepted since critical region < Z-score')"
   ]
  },
  {
   "cell_type": "markdown",
   "metadata": {},
   "source": [
    "### Problem Statement 4: "
   ]
  },
  {
   "cell_type": "code",
   "execution_count": 3,
   "metadata": {},
   "outputs": [
    {
     "name": "stdout",
     "output_type": "stream",
     "text": [
      "t-score is  -2.070747228595759\n",
      "Critical Region is -0.6863519891164291 0.6863519891164291\n",
      "/------------------------------------------------------------------------------------/\n",
      "With this we can reject null hypothesis alpha=0.5 since it lies within critical region\n"
     ]
    }
   ],
   "source": [
    "data=[1008, 812, 1117, 1323, 1308, 1415, 831, 1021, 1287, 851, 930, 730, 699, 872, 913, 944, 954, 987, 1695, 995, 1003, 994]\n",
    "Pmean=1135\n",
    "sample_std= np.std(data)\n",
    "n=22\n",
    "sample_mean= np.sum(data,axis=0)/(len(data))\n",
    "SE=sample_std/n**0.5\n",
    "alpha=0.5\n",
    "test1=((sample_mean)-(Pmean))/SE\n",
    "print('t-score is ', test1)\n",
    "print(f\"Critical Region is {stats.t.ppf((alpha/2), df=21)} {stats.t.ppf(1-(alpha/2),df=21)}\")\n",
    "print('/------------------------------------------------------------------------------------/')\n",
    "print('With this we can reject null hypothesis alpha=0.5 since it lies within critical region')\n"
   ]
  },
  {
   "cell_type": "markdown",
   "metadata": {},
   "source": [
    "### Problem Statement 5:"
   ]
  },
  {
   "cell_type": "code",
   "execution_count": 4,
   "metadata": {},
   "outputs": [
    {
     "name": "stdout",
     "output_type": "stream",
     "text": [
      "Critical region is -1.9599639845400545   1.9599639845400545\n",
      "/---------------------------------------------------------------------------------/\n",
      "With this we accept null hypothesis at alpha=0.05 because Z-score < critical region\n"
     ]
    }
   ],
   "source": [
    "Pmean=48432\n",
    "Pstd=2000\n",
    "n=400\n",
    "sample_mean=48574\n",
    "SE=Pstd/n**0.5\n",
    "Z=((sample_mean)-(Pmean))/SE\n",
    "alpha=0.05\n",
    "print(f'Critical region is {norm.ppf(alpha/2)}   {-norm.ppf(alpha/2)}')\n",
    "print('/---------------------------------------------------------------------------------/')\n",
    "print('With this we accept null hypothesis at alpha=0.05 because Z-score < critical region')"
   ]
  },
  {
   "cell_type": "markdown",
   "metadata": {},
   "source": [
    "### Problem Statement 6:"
   ]
  },
  {
   "cell_type": "code",
   "execution_count": 5,
   "metadata": {},
   "outputs": [
    {
     "name": "stdout",
     "output_type": "stream",
     "text": [
      "t- score is -2.1\n",
      "Critical region = -2.1 2.1\n",
      "/-----------------------------------------------------------------------------------------/\n",
      "With this we can reect null hypothesis when alpha=0.05 since it lies within critical region\n"
     ]
    }
   ],
   "source": [
    "Pmean=32.28\n",
    "n=19\n",
    "sample_mean=31.67\n",
    "sample_std=1.29\n",
    "alpha=0.05\n",
    "SE=sample_std/(n**0.5)\n",
    "t=((sample_mean)-(Pmean))/SE\n",
    "print(f't- score is {round((t),1)}')\n",
    "print(f'Critical region = {round(stats.t.ppf((alpha/2), df=18),1)} {-round(stats.t.ppf((alpha/2),df=18),1)}')\n",
    "print('/-----------------------------------------------------------------------------------------/')\n",
    "print('With this we can reect null hypothesis when alpha=0.05 since it lies within critical region')"
   ]
  },
  {
   "cell_type": "markdown",
   "metadata": {},
   "source": [
    "### Problem Statement 7:"
   ]
  },
  {
   "cell_type": "code",
   "execution_count": 6,
   "metadata": {},
   "outputs": [
    {
     "name": "stdout",
     "output_type": "stream",
     "text": [
      "-1.4\n",
      "-0.2\n",
      "Beta at mu1=52 is  0.2643\n"
     ]
    }
   ],
   "source": [
    "## At mu1=52\n",
    "n1=1\n",
    "sig=2.5\n",
    "mu1=52\n",
    "p_11=(48.5 - mu1)/(sig/math.sqrt(n1))\n",
    "print(p_11)\n",
    "p_12=(51.5 - mu1)/(sig/math.sqrt(n1))\n",
    "print(p_12)\n",
    "#p_12 > p_11 so z-score is between p_12 < z < p_11\n",
    "#find probability at these scores \n",
    "p_11=0\n",
    "p_12=0.2643\n",
    "Beta11=p_12 - p_11\n",
    "print(f\"Beta at mu1=52 is \",Beta11)"
   ]
  },
  {
   "cell_type": "code",
   "execution_count": 7,
   "metadata": {},
   "outputs": [
    {
     "name": "stdout",
     "output_type": "stream",
     "text": [
      "-2.5298221281347035\n",
      "1.2649110640673518\n",
      "Beta at mu2=50.5 is :  0.1095\n"
     ]
    }
   ],
   "source": [
    "## At mu2=50.5\n",
    "n1=10\n",
    "sig=2.5\n",
    "mu2=50.5\n",
    "p_13=(48.5 - mu2)/(sig/math.sqrt(n1))\n",
    "print(p_13)\n",
    "p_14=(51.5 - mu2)/(sig/math.sqrt(n1))\n",
    "print(p_14)\n",
    "#  z-score is between p_13 < z < p_14\n",
    "#find probability at these scores \n",
    "p_13=0.0057\n",
    "p_14=0.8962\n",
    "Beta12=p_13 +(1-p_14)\n",
    "print(f\"Beta at mu2=50.5 is : \", Beta12)"
   ]
  },
  {
   "cell_type": "code",
   "execution_count": 8,
   "metadata": {},
   "outputs": [
    {
     "name": "stdout",
     "output_type": "stream",
     "text": [
      "-5.059644256269407\n",
      "-1.2649110640673518\n",
      "Beta at mu2=52 is : 0.1038\n"
     ]
    }
   ],
   "source": [
    "# calculate Beta at mu1=52\n",
    "n2=10\n",
    "sig=2.5\n",
    "mu1=52\n",
    "p_21=(48.0 - mu1)/(sig/math.sqrt(n2))\n",
    "print(p_21)\n",
    "p_22=(51.0 - mu1)/(sig/math.sqrt(n2))\n",
    "print(p_22)\n",
    "# p_22 > p_21, z-score lies between p_22 < z < P-21\n",
    "p_21=0\n",
    "p_22=0.1038\n",
    "Beta21=p_22 - p_21\n",
    "print(f\"Beta at mu2=52 is :\", Beta21)"
   ]
  },
  {
   "cell_type": "code",
   "execution_count": 9,
   "metadata": {},
   "outputs": [
    {
     "name": "stdout",
     "output_type": "stream",
     "text": [
      "-3.1622776601683795\n",
      "0.6324555320336759\n",
      "Beta at mu2=50.5 is  0.2651\n"
     ]
    }
   ],
   "source": [
    "# calculate Beta at mu2=50.5\n",
    "n2=10\n",
    "sig=2.5\n",
    "mu2=50.5\n",
    "p_23=(48 - mu2)/(sig/math.sqrt(n2))\n",
    "print(p_23)\n",
    "p_24=(51 - mu2)/(sig/math.sqrt(n2))\n",
    "print(p_24)\n",
    "#z-score lies in p_13 < z < p_14\n",
    "p_23=0.0008\n",
    "p_24=0.7357\n",
    "Beta22=p_23 +(1-p_24)\n",
    "print('Beta at mu2=50.5 is ', Beta22)"
   ]
  },
  {
   "cell_type": "code",
   "execution_count": 10,
   "metadata": {},
   "outputs": [
    {
     "name": "stdout",
     "output_type": "stream",
     "text": [
      "-5.1039999999999965\n",
      "-0.16000000000000228\n",
      "Beta at mu2=52 is  0.4364\n"
     ]
    }
   ],
   "source": [
    "#Caluculate Beta  at mu1=52\n",
    "n3=16\n",
    "sig=2.5\n",
    "mu1=52\n",
    "p_31=(48.81 - mu1)/(sig/math.sqrt(n3))\n",
    "print(p_31)\n",
    "p_32=(51.9 - mu1)/(sig/math.sqrt(n3))\n",
    "print(p_32)\n",
    "#z-score lies in p31< z < p_32\n",
    "p_31=0.4364\n",
    "p_32=0\n",
    "Beta31=p_31-p_32\n",
    "print('Beta at mu2=52 is ', Beta31)"
   ]
  },
  {
   "cell_type": "code",
   "execution_count": 11,
   "metadata": {},
   "outputs": [
    {
     "name": "stdout",
     "output_type": "stream",
     "text": [
      "-2.703999999999996\n",
      "2.2399999999999975\n",
      "Beta at mu2=50.5 is : 0.015699999999999957\n"
     ]
    }
   ],
   "source": [
    "#caluculate Beta at mu2=50.5\n",
    "n3=16\n",
    "sig=2.5\n",
    "mu2=50.5\n",
    "p_33=(48.81 - mu2)/(sig/math.sqrt(n3))\n",
    "print(p_33)\n",
    "p_34=(51.9 - mu2)/(sig/math.sqrt(n3))\n",
    "print(p_34)\n",
    "#Z-score lies in p_33 < z < 1-p_34\n",
    "p_33=0.0032\n",
    "p_34=0.9875\n",
    "Beta32=p_33 +(1- p_34)\n",
    "print('Beta at mu2=50.5 is :', Beta32)"
   ]
  },
  {
   "cell_type": "code",
   "execution_count": 12,
   "metadata": {},
   "outputs": [
    {
     "name": "stdout",
     "output_type": "stream",
     "text": [
      "-5.727999999999997\n",
      "-0.6720000000000027\n",
      "Beta at mu2=52 is  0.2514\n"
     ]
    }
   ],
   "source": [
    "# Calculate Beta at mu1=52\n",
    "n4=16\n",
    "sig=2.5\n",
    "mu1=52\n",
    "p_41=(48.42 - mu1)/(sig/math.sqrt(n4))\n",
    "print(p_41)\n",
    "p_42=(51.58 - mu1)/(sig/math.sqrt(n4))\n",
    "print(p_42)\n",
    "#Z-score lies in p_42 < z < p_41\n",
    "p_41=0.0\n",
    "p_42=0.2514\n",
    "Beta41=p_42 - p_41\n",
    "print('Beta at mu2=52 is ',Beta41)"
   ]
  },
  {
   "cell_type": "code",
   "execution_count": 13,
   "metadata": {},
   "outputs": [
    {
     "name": "stdout",
     "output_type": "stream",
     "text": [
      "-3.327999999999997\n",
      "1.7279999999999973\n",
      "Beta at mu2=50.5 is  0.015999999999999955\n"
     ]
    }
   ],
   "source": [
    "#calculate Beta at mu2=50.5\n",
    "n4=16\n",
    "sig=2.5\n",
    "mu2=50.5\n",
    "p_43=(48.42 - mu2)/(sig/math.sqrt(n4))\n",
    "print(p_43)\n",
    "p_44=(51.58- mu2)/(sig/math.sqrt(n4))\n",
    "print(p_44)\n",
    "#z-score lies in p_33 < z < (1- p_34)\n",
    "p_43=0.0035\n",
    "p_44=0.9875\n",
    "Beta42=p_43 + (1-p_44)\n",
    "print('Beta at mu2=50.5 is ', Beta42)"
   ]
  },
  {
   "cell_type": "markdown",
   "metadata": {},
   "source": [
    "### Problem Statement 8:\n"
   ]
  },
  {
   "cell_type": "code",
   "execution_count": 14,
   "metadata": {},
   "outputs": [
    {
     "name": "stdout",
     "output_type": "stream",
     "text": [
      "The value of t-score is 5.3\n"
     ]
    }
   ],
   "source": [
    "n=16\n",
    "pmean=10\n",
    "sample_mean=12\n",
    "sample_std=1.5\n",
    "SE=sample_std/(n**0.5)\n",
    "t=((sample_mean) - (pmean))/SE\n",
    "print(f'The value of t-score is {round((t),1)}')"
   ]
  },
  {
   "cell_type": "markdown",
   "metadata": {},
   "source": [
    "### Problem Statement 9:\n"
   ]
  },
  {
   "cell_type": "code",
   "execution_count": 15,
   "metadata": {},
   "outputs": [
    {
     "name": "stdout",
     "output_type": "stream",
     "text": [
      "Value of t-score is 2.946712883338615\n"
     ]
    }
   ],
   "source": [
    "n=16\n",
    "alpha=(1-0.99)/2\n",
    "print(f'Value of t-score is {stats.t.ppf(1-alpha, df=15)}')"
   ]
  },
  {
   "cell_type": "markdown",
   "metadata": {},
   "source": [
    "### Problem Statement 10: \n"
   ]
  },
  {
   "cell_type": "code",
   "execution_count": 16,
   "metadata": {},
   "outputs": [
    {
     "name": "stdout",
     "output_type": "stream",
     "text": [
      "The range is = 61.651118849302414  58.348881150697586\n"
     ]
    }
   ],
   "source": [
    "n=25 \n",
    "std=4\n",
    "mean=60\n",
    "alpha=(1-0.95)/2\n",
    "tscore=stats.t.ppf(1-alpha,df=24)\n",
    "print(f'The range is = {mean + tscore*(std/n**0.5)}  {mean-tscore*(std/n**0.5)}')"
   ]
  },
  {
   "cell_type": "code",
   "execution_count": 17,
   "metadata": {},
   "outputs": [
    {
     "name": "stdout",
     "output_type": "stream",
     "text": [
      "Probability that (-t0.05 < t <t0.10) is 0.05914441613731247\n"
     ]
    }
   ],
   "source": [
    "p=stats.t.cdf(0.1,df=24)- stats.t.cdf(-0.05, df=24)\n",
    "print(f'Probability that (-t0.05 < t <t0.10) is {p}')"
   ]
  },
  {
   "cell_type": "markdown",
   "metadata": {},
   "source": [
    "### Problem Statement 11:\n"
   ]
  },
  {
   "cell_type": "code",
   "execution_count": 18,
   "metadata": {},
   "outputs": [
    {
     "name": "stdout",
     "output_type": "stream",
     "text": [
      "Z-score is  -7.926428526759299\n",
      "Critical region is -1.9599639845400545 1.9599639845400545\n",
      "/--------------------------------------------------------------------------------------------------------------------------/\n",
      "Null hypothesis will be rejected as it lies within critical region. Thus the no of people travelling from Bangalore to Chennai is different from people travelling from Bangalore to Hosur in a week\n"
     ]
    }
   ],
   "source": [
    "n1=1200\n",
    "x1=452\n",
    "s1=212\n",
    "n2=800\n",
    "x2=523\n",
    "s2=185\n",
    "s_1=s1**2\n",
    "s_2=s2**2\n",
    "alpha=0.05\n",
    "SE=((s_1/n1)+(s_2/n2))**0.5\n",
    "Zscore=(x1-x2)/SE\n",
    "print('Z-score is ', Zscore)\n",
    "print(f'Critical region is {norm.ppf(alpha/2)} {-norm.ppf(alpha/2)}')\n",
    "print('/--------------------------------------------------------------------------------------------------------------------------/')\n",
    "print('Null hypothesis will be rejected as it lies within critical region. Thus the no of people travelling from Bangalore to Chennai is different from people travelling from Bangalore to Hosur in a week')"
   ]
  },
  {
   "cell_type": "markdown",
   "metadata": {},
   "source": [
    "### Problem Statement 12:"
   ]
  },
  {
   "cell_type": "code",
   "execution_count": 19,
   "metadata": {},
   "outputs": [
    {
     "name": "stdout",
     "output_type": "stream",
     "text": [
      "Z-score is  5.025702668336442\n",
      "Critical region is -1.9599639845400545 1.9599639845400545\n",
      "/----------------------------------------------------------------------------------------------------------------------------/\n",
      "Null hypothesis will be rejected because it lies within critical region. Thus no of people preferring Duracell battery is different the people referring Energizer batteries  \n"
     ]
    }
   ],
   "source": [
    "n1=100\n",
    "x1=308\n",
    "s1=84\n",
    "n2=100\n",
    "x2=254\n",
    "s2=67\n",
    "s_1=s1**2\n",
    "s_2=s2**2\n",
    "alpha=0.05\n",
    "SE=((s_1/n1)+(s_2/n2))**0.5\n",
    "Zscore=(x1-x2)/SE\n",
    "print('Z-score is ', Zscore)\n",
    "print(f'Critical region is {norm.ppf(alpha/2)} {-norm.ppf(alpha/2)}')\n",
    "print('/----------------------------------------------------------------------------------------------------------------------------/')\n",
    "print('Null hypothesis will be rejected because it lies within critical region. Thus no of people preferring Duracell battery is different the people referring Energizer batteries  ')"
   ]
  },
  {
   "cell_type": "markdown",
   "metadata": {},
   "source": [
    "### Problem Statement 13: "
   ]
  },
  {
   "cell_type": "code",
   "execution_count": 20,
   "metadata": {},
   "outputs": [
    {
     "name": "stdout",
     "output_type": "stream",
     "text": [
      "tscore =  0.3931089218182991\n",
      "Critical region = 1.7207429028118775\n",
      "/--------------------------------------------------------/\n",
      "Null hypothesis is accepted, average price do not increase\n"
     ]
    }
   ],
   "source": [
    "n1=14\n",
    "x1=0.317\n",
    "s1=0.12\n",
    "n2=9\n",
    "x2=0.21\n",
    "s2=0.11\n",
    "s_1=s1**2\n",
    "s_2=s2**2\n",
    "s=((n1-1)*s_1)+((n2-1)*s_2)\n",
    "n=(n1+n2-2)\n",
    "SE=(s/n)**0.5\n",
    "n_1=((1/n1)+(1/n2))**0.5\n",
    "tscore=(x1-x2)/SE*n_1\n",
    "print('tscore = ', tscore)\n",
    "print(f'Critical region = {stats.t.ppf(1-0.05, df=n)}')\n",
    "print('/--------------------------------------------------------/')\n",
    "print('Null hypothesis is accepted, average price do not increase')"
   ]
  },
  {
   "cell_type": "markdown",
   "metadata": {},
   "source": [
    "### Problem Statement 14:"
   ]
  },
  {
   "cell_type": "code",
   "execution_count": 21,
   "metadata": {},
   "outputs": [
    {
     "name": "stdout",
     "output_type": "stream",
     "text": [
      "t-score =  -0.12030251763703412\n",
      "Critical region = -1.708140761251899\n",
      "/----------------------------------------------------------/\n",
      "Null hypothesis is accepted, average price remains the same\n"
     ]
    }
   ],
   "source": [
    "n1=15\n",
    "x1=6598\n",
    "s1=844\n",
    "n2=12\n",
    "x2=6870\n",
    "s2=669\n",
    "s_1=s1**2\n",
    "s_2=s2**2\n",
    "s=((n-1)*s_1)+((n2-1)*s_2)\n",
    "n=(n1+n2-2)\n",
    "SE=(s/n)**0.5\n",
    "n_1=((1/n1)+(1/n2))**0.5\n",
    "tscore=(x1-x2)/SE*n_1\n",
    "print('t-score = ',tscore)\n",
    "print(f'Critical region = {stats.t.ppf(0.05, df=n)}')\n",
    "print('/----------------------------------------------------------/')\n",
    "print('Null hypothesis is accepted, average price remains the same')"
   ]
  },
  {
   "cell_type": "markdown",
   "metadata": {},
   "source": [
    "### Problem Statement 15:"
   ]
  },
  {
   "cell_type": "code",
   "execution_count": 22,
   "metadata": {},
   "outputs": [
    {
     "name": "stdout",
     "output_type": "stream",
     "text": [
      "Z-score -  0.0\n",
      "Citical region - -1.6448536269514729\n",
      "/---------------------------------------/\n",
      "Null hypothesis is rejected at alpha=10%\n"
     ]
    }
   ],
   "source": [
    "n1=1000\n",
    "x1=53\n",
    "p1=0.53\n",
    "n2=100\n",
    "x2=43\n",
    "p2=0.53\n",
    "p=(x1+x2)/(n1+n2)\n",
    "n=(1/n1)+(1/n2)\n",
    "p_1=p*(1-p)\n",
    "z=(p1-p2)/((p_1*n)**0.5)\n",
    "print('Z-score - ', z)\n",
    "print(f'Citical region - {norm.ppf(0.05)}')\n",
    "print('/---------------------------------------/')\n",
    "print('Null hypothesis is rejected at alpha=10%')"
   ]
  },
  {
   "cell_type": "markdown",
   "metadata": {},
   "source": [
    "### Problem Statement 16: "
   ]
  },
  {
   "cell_type": "code",
   "execution_count": 23,
   "metadata": {},
   "outputs": [
    {
     "name": "stdout",
     "output_type": "stream",
     "text": [
      "Z-score is  3.303749523611152\n",
      "Critical region is 1.6448536269514729\n",
      "/-------------------------------------/\n",
      "Null hypothesis is rejected at alpha=5%\n"
     ]
    }
   ],
   "source": [
    "n1=300\n",
    "x1=120\n",
    "p1=0.40\n",
    "n2=700\n",
    "x2=140\n",
    "p2=0.20\n",
    "p=(x1+x2)/(n1+n2)\n",
    "n=(1/n1)+(1/n2)\n",
    "p_1=p*(1-p)\n",
    "z=(p1-p2-0.1)/((p_1*n)**0.5)\n",
    "print('Z-score is ', z)\n",
    "print(f'Critical region is {-norm.ppf(0.05)}')\n",
    "print('/-------------------------------------/')\n",
    "print('Null hypothesis is rejected at alpha=5%')"
   ]
  },
  {
   "cell_type": "markdown",
   "metadata": {},
   "source": [
    "### Problem Statement 17:"
   ]
  },
  {
   "cell_type": "code",
   "execution_count": 24,
   "metadata": {},
   "outputs": [
    {
     "name": "stdout",
     "output_type": "stream",
     "text": [
      "Chi square value is 9.0 and p-value is 0.1090641579497725\n",
      "Dias is unbaised\n"
     ]
    }
   ],
   "source": [
    "obs_f=[16, 20, 25, 14, 29, 28]\n",
    "exp_f=[22,22,22,22,22,22]\n",
    "a=stats.chisquare(obs_f,exp_f)\n",
    "print(f'Chi square value is {a[0]} and p-value is {a[1]}')\n",
    "print('Dias is unbaised')"
   ]
  },
  {
   "cell_type": "markdown",
   "metadata": {},
   "source": [
    "### Problem Statement 18:"
   ]
  },
  {
   "cell_type": "code",
   "execution_count": 25,
   "metadata": {},
   "outputs": [
    {
     "name": "stdout",
     "output_type": "stream",
     "text": [
      "Chi Squre is 6.660455899328067\n",
      "Critical region with alpha=0.05 is 3.84\n",
      "/---------------------------------------------/\n",
      "we reject the NULL. The data supports the hypothesis that sex and voting are dependent in this town.\n"
     ]
    }
   ],
   "source": [
    "obs_voted_men=2792\n",
    "obs_voted_women=3591\n",
    "obs_notvoted_men=1486\n",
    "obs_notvoted_women=2131\n",
    "total_voted=2792+3591\n",
    "total_notvoted=1486+2131\n",
    "total_men=2792+1486\n",
    "total_women=3591+2131\n",
    "exp_voted_men=(total_voted*total_men)/10000\n",
    "exp_voted_women=(total_voted*total_women)/10000\n",
    "exp_notvoted_men=(total_notvoted*total_men)/10000\n",
    "exp_notvoted_women=(total_notvoted*total_women)/10000\n",
    "chisqr1=(((obs_voted_women-exp_voted_women)**2)/exp_voted_women)\n",
    "chisqr2=(((obs_voted_men-exp_voted_men)**2)/exp_voted_men)   \n",
    "chisqr3=(((obs_notvoted_men-exp_notvoted_men)**2)/exp_notvoted_men)\n",
    "chisqr4=(((obs_notvoted_women-exp_notvoted_women)**2)/exp_notvoted_women)         \n",
    "chisquare=chisqr1+chisqr2+chisqr3+chisqr4\n",
    "print(f'Chi Squre is {chisquare}')\n",
    "print(f'Critical region with alpha=0.05 is 3.84')\n",
    "print('/---------------------------------------------/')\n",
    "print('we reject the NULL. The data supports the hypothesis that sex and voting are dependent in this town.')"
   ]
  },
  {
   "cell_type": "markdown",
   "metadata": {},
   "source": [
    "### Problem Statement 19: "
   ]
  },
  {
   "cell_type": "code",
   "execution_count": 26,
   "metadata": {},
   "outputs": [
    {
     "name": "stdout",
     "output_type": "stream",
     "text": [
      "Chi-square value is 14.959999999999999\n",
      "Critical region with 3df and alpha=0.05 is 7.82\n",
      "we reject null hypothesis. All candidates are not equaly popular\n"
     ]
    }
   ],
   "source": [
    "data=[41,19,24,16]\n",
    "exp=[25,25,25,25]\n",
    "a=stats.chisquare(data,exp)\n",
    "print(f'Chi-square value is {a[0]}')\n",
    "print(f'Critical region with 3df and alpha=0.05 is 7.82')\n",
    "print('we reject null hypothesis. All candidates are not equaly popular')"
   ]
  },
  {
   "cell_type": "markdown",
   "metadata": {},
   "source": [
    "### Problem Statement 20:"
   ]
  },
  {
   "cell_type": "code",
   "execution_count": 27,
   "metadata": {},
   "outputs": [
    {
     "name": "stdout",
     "output_type": "stream",
     "text": [
      "Chi square value is 29.603174603174608\n",
      "Critical region with 4df and alpha=0.001  is 18.47\n",
      "/-------------------------------------------------------------------------------------------/\n",
      "We reject null hypothesis. There is significance relationship between age and photograph preference\n"
     ]
    }
   ],
   "source": [
    "obs=([[18,22,20],[2,28,40],[20,10,40]])\n",
    "a=chi2_contingency(obs)\n",
    "print(f'Chi square value is {a[0]}')\n",
    "print(f'Critical region with 4df and alpha=0.001  is 18.47')\n",
    "print('/-------------------------------------------------------------------------------------------/')\n",
    "print('We reject null hypothesis. There is significance relationship between age and photograph preference')"
   ]
  },
  {
   "cell_type": "markdown",
   "metadata": {},
   "source": [
    "### Problem Statement 21: "
   ]
  },
  {
   "cell_type": "code",
   "execution_count": 28,
   "metadata": {},
   "outputs": [
    {
     "name": "stdout",
     "output_type": "stream",
     "text": [
      "Chi square value is 18.10344827586207\n",
      "Critical region with 1df and alpha=0.001 is 10.83\n",
      "/----------------------------------------------------------------------------------------------------------------------/\n",
      "We reject null hypothesis. S othere is significant difference between the 'support' and 'no support' conditions in the frequency with which individuals are likely to conform\n"
     ]
    }
   ],
   "source": [
    "obs=np.array([[18,40], [32,10]])\n",
    "a=chi2_contingency(obs)\n",
    "print(f'Chi square value is {a[0]}')\n",
    "print(f'Critical region with 1df and alpha=0.001 is 10.83')\n",
    "print('/----------------------------------------------------------------------------------------------------------------------/')\n",
    "print(f\"We reject null hypothesis. S othere is significant difference between the 'support' and 'no support' conditions in the frequency with which individuals are likely to conform\")"
   ]
  },
  {
   "cell_type": "markdown",
   "metadata": {},
   "source": [
    "### Problem Statement 22: "
   ]
  },
  {
   "cell_type": "code",
   "execution_count": 29,
   "metadata": {},
   "outputs": [
    {
     "name": "stdout",
     "output_type": "stream",
     "text": [
      "Chi square value is 10.712198008709638\n",
      "Critical region with 2df and alpha=0.001 is 13.82\n",
      "/-----------------------------------------------------------------------------------------/\n",
      "We accept null hypothesis. There is no relationship between height and leadership qualities\n"
     ]
    }
   ],
   "source": [
    "obs=([[12,32],[22,14],[9,6]])\n",
    "a=chi2_contingency(obs)\n",
    "print(f'Chi square value is {a[0]}')\n",
    "print(f'Critical region with 2df and alpha=0.001 is 13.82')\n",
    "print('/-----------------------------------------------------------------------------------------/')\n",
    "print('We accept null hypothesis. There is no relationship between height and leadership qualities')"
   ]
  },
  {
   "cell_type": "markdown",
   "metadata": {},
   "source": [
    "### Problem Statement 23: "
   ]
  },
  {
   "cell_type": "code",
   "execution_count": 30,
   "metadata": {},
   "outputs": [
    {
     "name": "stdout",
     "output_type": "stream",
     "text": [
      "Chi square is 31.61310319407798\n",
      "Critical region with 4df and alpha=0.001 is 18.47\n",
      "/----------------------------------------------------------------------------------/\n",
      "We reect null hypothesis at alpha=0.001 there is relationship between martial status and employement status \n"
     ]
    }
   ],
   "source": [
    "obs=np.array([[679,103,114],[63,10,20],[42,18,25]])\n",
    "a=chi2_contingency(obs)\n",
    "print(f'Chi square is {a[0]}')\n",
    "print(f'Critical region with 4df and alpha=0.001 is 18.47')\n",
    "print('/----------------------------------------------------------------------------------/')\n",
    "print(f'We reect null hypothesis at alpha=0.001 there is relationship between martial status and employement status ')"
   ]
  },
  {
   "cell_type": "code",
   "execution_count": null,
   "metadata": {},
   "outputs": [],
   "source": []
  }
 ],
 "metadata": {
  "kernelspec": {
   "display_name": "Python 3",
   "language": "python",
   "name": "python3"
  },
  "language_info": {
   "codemirror_mode": {
    "name": "ipython",
    "version": 3
   },
   "file_extension": ".py",
   "mimetype": "text/x-python",
   "name": "python",
   "nbconvert_exporter": "python",
   "pygments_lexer": "ipython3",
   "version": "3.8.5"
  }
 },
 "nbformat": 4,
 "nbformat_minor": 4
}
