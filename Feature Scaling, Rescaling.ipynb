{
 "cells": [
  {
   "cell_type": "markdown",
   "metadata": {},
   "source": [
    "## Feature Scaling \n",
    "#### 1) Rescaling (min-max normalization)    x-xmin/xmax-xmn"
   ]
  },
  {
   "cell_type": "code",
   "execution_count": 5,
   "metadata": {},
   "outputs": [
    {
     "name": "stdout",
     "output_type": "stream",
     "text": [
      "[1.4 3.4 5.6 2.3]\n"
     ]
    }
   ],
   "source": [
    "import numpy as np \n",
    "data=np.array([1.4,3.4,5.6,2.3])\n",
    "print(data)"
   ]
  },
  {
   "cell_type": "code",
   "execution_count": 3,
   "metadata": {},
   "outputs": [
    {
     "name": "stdout",
     "output_type": "stream",
     "text": [
      "1.4\n"
     ]
    }
   ],
   "source": [
    "print(np.min(data)) #min data"
   ]
  },
  {
   "cell_type": "code",
   "execution_count": 4,
   "metadata": {},
   "outputs": [
    {
     "name": "stdout",
     "output_type": "stream",
     "text": [
      "5.6\n"
     ]
    }
   ],
   "source": [
    "print(np.max(data)) #max data "
   ]
  },
  {
   "cell_type": "code",
   "execution_count": 7,
   "metadata": {},
   "outputs": [
    {
     "name": "stdout",
     "output_type": "stream",
     "text": [
      "[0.         0.47619048 1.         0.21428571]\n"
     ]
    }
   ],
   "source": [
    "dmin=np.min(data)\n",
    "dmax=np.max(data)\n",
    "#formula- x-xmin/xmax-xmn\n",
    "print((data-dmin)/(dmax-dmin))"
   ]
  },
  {
   "cell_type": "code",
   "execution_count": 12,
   "metadata": {},
   "outputs": [
    {
     "name": "stdout",
     "output_type": "stream",
     "text": [
      "[[0.        ]\n",
      " [0.47619048]\n",
      " [1.        ]\n",
      " [0.21428571]]\n"
     ]
    }
   ],
   "source": [
    "data=data.reshape(-1,1)\n",
    "from sklearn.preprocessing import MinMaxScaler\n",
    "m=MinMaxScaler()\n",
    "m.fit(data)\n",
    "print(m.transform(data))"
   ]
  },
  {
   "cell_type": "markdown",
   "metadata": {},
   "source": [
    "## Rescaling by giving 2 vaues, a &b "
   ]
  },
  {
   "cell_type": "code",
   "execution_count": 13,
   "metadata": {},
   "outputs": [
    {
     "name": "stdout",
     "output_type": "stream",
     "text": [
      "[4.6        6.5047619  8.6        5.45714286]\n"
     ]
    }
   ],
   "source": [
    "import numpy as np \n",
    "data=np.array([1.4,3.4,5.6,2.3])\n",
    "a=4.6\n",
    "b=8.6\n",
    "dmin=np.min(data)\n",
    "dmax=np.max(data)\n",
    "#a+(data-dmin)*(b-a)/(dmax-dmin\n",
    "print(a+(data-dmin)*(b-a)/(dmax-dmin))\n",
    "\n"
   ]
  },
  {
   "cell_type": "code",
   "execution_count": 16,
   "metadata": {},
   "outputs": [
    {
     "name": "stdout",
     "output_type": "stream",
     "text": [
      "[[4.6       ]\n",
      " [6.5047619 ]\n",
      " [8.6       ]\n",
      " [5.45714286]]\n"
     ]
    }
   ],
   "source": [
    "data=data.reshape(-1,1)\n",
    "from sklearn.preprocessing import MinMaxScaler\n",
    "m=MinMaxScaler(feature_range=(a,b))\n",
    "m.fit(data)\n",
    "print(m.transform(data))"
   ]
  },
  {
   "cell_type": "markdown",
   "metadata": {},
   "source": [
    "### Perform rescaling in iris dataset"
   ]
  },
  {
   "cell_type": "markdown",
   "metadata": {},
   "source": [
    "#### 1- Boxplot all the columns in the dataset "
   ]
  },
  {
   "cell_type": "code",
   "execution_count": 46,
   "metadata": {},
   "outputs": [
    {
     "name": "stdout",
     "output_type": "stream",
     "text": [
      "     sepal_length  sepal_width  petal_length  petal_width    species\n",
      "0             5.1          3.5           1.4          0.2     setosa\n",
      "1             4.9          3.0           1.4          0.2     setosa\n",
      "2             4.7          3.2           1.3          0.2     setosa\n",
      "3             4.6          3.1           1.5          0.2     setosa\n",
      "4             5.0          3.6           1.4          0.2     setosa\n",
      "..            ...          ...           ...          ...        ...\n",
      "145           6.7          3.0           5.2          2.3  virginica\n",
      "146           6.3          2.5           5.0          1.9  virginica\n",
      "147           6.5          3.0           5.2          2.0  virginica\n",
      "148           6.2          3.4           5.4          2.3  virginica\n",
      "149           5.9          3.0           5.1          1.8  virginica\n",
      "\n",
      "[150 rows x 5 columns]\n"
     ]
    }
   ],
   "source": [
    "import seaborn as sns \n",
    "df=sns.load_dataset(\"iris\")\n",
    "print(df)"
   ]
  },
  {
   "cell_type": "markdown",
   "metadata": {},
   "source": [
    "#### Boxplot Sepal Length"
   ]
  },
  {
   "cell_type": "code",
   "execution_count": 38,
   "metadata": {},
   "outputs": [
    {
     "data": {
      "text/plain": [
       "<AxesSubplot:xlabel='sepal_length'>"
      ]
     },
     "execution_count": 38,
     "metadata": {},
     "output_type": "execute_result"
    },
    {
     "data": {
      "image/png": "[encoded data removed]",
      "text/plain": [
       "<Figure size 432x288 with 1 Axes>"
      ]
     },
     "metadata": {
      "needs_background": "light"
     },
     "output_type": "display_data"
    }
   ],
   "source": [
    "sns.boxplot(x=\"sepal_length\",data=df)\n"
   ]
  },
  {
   "cell_type": "markdown",
   "metadata": {},
   "source": [
    "#### Boxplot Sepal width"
   ]
  },
  {
   "cell_type": "code",
   "execution_count": 30,
   "metadata": {},
   "outputs": [
    {
     "data": {
      "text/plain": [
       "<AxesSubplot:xlabel='sepal_width'>"
      ]
     },
     "execution_count": 30,
     "metadata": {},
     "output_type": "execute_result"
    },
    {
     "data": {
      "image/png": "[encoded data removed]",
      "text/plain": [
       "<Figure size 432x288 with 1 Axes>"
      ]
     },
     "metadata": {
      "needs_background": "light"
     },
     "output_type": "display_data"
    }
   ],
   "source": [
    "sns.boxplot(x=\"sepal_width\",data=df)"
   ]
  },
  {
   "cell_type": "markdown",
   "metadata": {},
   "source": [
    "#### Boxplot Petal length"
   ]
  },
  {
   "cell_type": "code",
   "execution_count": 31,
   "metadata": {},
   "outputs": [
    {
     "data": {
      "text/plain": [
       "<AxesSubplot:xlabel='petal_length'>"
      ]
     },
     "execution_count": 31,
     "metadata": {},
     "output_type": "execute_result"
    },
    {
     "data": {
      "image/png": "[encoded data removed]",
      "text/plain": [
       "<Figure size 432x288 with 1 Axes>"
      ]
     },
     "metadata": {
      "needs_background": "light"
     },
     "output_type": "display_data"
    }
   ],
   "source": [
    "sns.boxplot(x=\"petal_length\",data=df)"
   ]
  },
  {
   "cell_type": "markdown",
   "metadata": {},
   "source": [
    "#### Boxplot Petal width "
   ]
  },
  {
   "cell_type": "code",
   "execution_count": 32,
   "metadata": {},
   "outputs": [
    {
     "data": {
      "text/plain": [
       "<AxesSubplot:xlabel='petal_width'>"
      ]
     },
     "execution_count": 32,
     "metadata": {},
     "output_type": "execute_result"
    },
    {
     "data": {
      "image/png": "[encoded data removed]",
      "text/plain": [
       "<Figure size 432x288 with 1 Axes>"
      ]
     },
     "metadata": {
      "needs_background": "light"
     },
     "output_type": "display_data"
    }
   ],
   "source": [
    "sns.boxplot(x=\"petal_width\",data=df)"
   ]
  },
  {
   "cell_type": "markdown",
   "metadata": {},
   "source": [
    "#### Minimum value of all columns in dataset "
   ]
  },
  {
   "cell_type": "code",
   "execution_count": 55,
   "metadata": {},
   "outputs": [
    {
     "data": {
      "text/plain": [
       "sepal_length       4.3\n",
       "sepal_width          2\n",
       "petal_length         1\n",
       "petal_width        0.1\n",
       "species         setosa\n",
       "dtype: object"
      ]
     },
     "execution_count": 55,
     "metadata": {},
     "output_type": "execute_result"
    }
   ],
   "source": [
    "dmin=np.min(df)\n",
    "dmin\n"
   ]
  },
  {
   "cell_type": "markdown",
   "metadata": {},
   "source": [
    "#### Maximum value of all columns in dataset"
   ]
  },
  {
   "cell_type": "code",
   "execution_count": 49,
   "metadata": {},
   "outputs": [
    {
     "data": {
      "text/plain": [
       "sepal_length          7.9\n",
       "sepal_width           4.4\n",
       "petal_length          6.9\n",
       "petal_width           2.5\n",
       "species         virginica\n",
       "dtype: object"
      ]
     },
     "execution_count": 49,
     "metadata": {},
     "output_type": "execute_result"
    }
   ],
   "source": [
    "dmax=np.max(df)\n",
    "dmax"
   ]
  },
  {
   "cell_type": "code",
   "execution_count": 56,
   "metadata": {},
   "outputs": [
    {
     "data": {
      "text/plain": [
       "1.0"
      ]
     },
     "execution_count": 56,
     "metadata": {},
     "output_type": "execute_result"
    }
   ],
   "source": [
    "dmin[\"petal_length\"]   #mim value of petal length"
   ]
  },
  {
   "cell_type": "code",
   "execution_count": 57,
   "metadata": {},
   "outputs": [
    {
     "data": {
      "text/plain": [
       "6.9"
      ]
     },
     "execution_count": 57,
     "metadata": {},
     "output_type": "execute_result"
    }
   ],
   "source": [
    "dmax[\"petal_length\"] #max value of petal length"
   ]
  },
  {
   "cell_type": "markdown",
   "metadata": {},
   "source": [
    "#### obtain array of sepal length"
   ]
  },
  {
   "cell_type": "code",
   "execution_count": 62,
   "metadata": {},
   "outputs": [
    {
     "name": "stdout",
     "output_type": "stream",
     "text": [
      "[[5.1]\n",
      " [4.9]\n",
      " [4.7]\n",
      " [4.6]\n",
      " [5. ]\n",
      " [5.4]\n",
      " [4.6]\n",
      " [5. ]\n",
      " [4.4]\n",
      " [4.9]\n",
      " [5.4]\n",
      " [4.8]\n",
      " [4.8]\n",
      " [4.3]\n",
      " [5.8]\n",
      " [5.7]\n",
      " [5.4]\n",
      " [5.1]\n",
      " [5.7]\n",
      " [5.1]\n",
      " [5.4]\n",
      " [5.1]\n",
      " [4.6]\n",
      " [5.1]\n",
      " [4.8]\n",
      " [5. ]\n",
      " [5. ]\n",
      " [5.2]\n",
      " [5.2]\n",
      " [4.7]\n",
      " [4.8]\n",
      " [5.4]\n",
      " [5.2]\n",
      " [5.5]\n",
      " [4.9]\n",
      " [5. ]\n",
      " [5.5]\n",
      " [4.9]\n",
      " [4.4]\n",
      " [5.1]\n",
      " [5. ]\n",
      " [4.5]\n",
      " [4.4]\n",
      " [5. ]\n",
      " [5.1]\n",
      " [4.8]\n",
      " [5.1]\n",
      " [4.6]\n",
      " [5.3]\n",
      " [5. ]\n",
      " [7. ]\n",
      " [6.4]\n",
      " [6.9]\n",
      " [5.5]\n",
      " [6.5]\n",
      " [5.7]\n",
      " [6.3]\n",
      " [4.9]\n",
      " [6.6]\n",
      " [5.2]\n",
      " [5. ]\n",
      " [5.9]\n",
      " [6. ]\n",
      " [6.1]\n",
      " [5.6]\n",
      " [6.7]\n",
      " [5.6]\n",
      " [5.8]\n",
      " [6.2]\n",
      " [5.6]\n",
      " [5.9]\n",
      " [6.1]\n",
      " [6.3]\n",
      " [6.1]\n",
      " [6.4]\n",
      " [6.6]\n",
      " [6.8]\n",
      " [6.7]\n",
      " [6. ]\n",
      " [5.7]\n",
      " [5.5]\n",
      " [5.5]\n",
      " [5.8]\n",
      " [6. ]\n",
      " [5.4]\n",
      " [6. ]\n",
      " [6.7]\n",
      " [6.3]\n",
      " [5.6]\n",
      " [5.5]\n",
      " [5.5]\n",
      " [6.1]\n",
      " [5.8]\n",
      " [5. ]\n",
      " [5.6]\n",
      " [5.7]\n",
      " [5.7]\n",
      " [6.2]\n",
      " [5.1]\n",
      " [5.7]\n",
      " [6.3]\n",
      " [5.8]\n",
      " [7.1]\n",
      " [6.3]\n",
      " [6.5]\n",
      " [7.6]\n",
      " [4.9]\n",
      " [7.3]\n",
      " [6.7]\n",
      " [7.2]\n",
      " [6.5]\n",
      " [6.4]\n",
      " [6.8]\n",
      " [5.7]\n",
      " [5.8]\n",
      " [6.4]\n",
      " [6.5]\n",
      " [7.7]\n",
      " [7.7]\n",
      " [6. ]\n",
      " [6.9]\n",
      " [5.6]\n",
      " [7.7]\n",
      " [6.3]\n",
      " [6.7]\n",
      " [7.2]\n",
      " [6.2]\n",
      " [6.1]\n",
      " [6.4]\n",
      " [7.2]\n",
      " [7.4]\n",
      " [7.9]\n",
      " [6.4]\n",
      " [6.3]\n",
      " [6.1]\n",
      " [7.7]\n",
      " [6.3]\n",
      " [6.4]\n",
      " [6. ]\n",
      " [6.9]\n",
      " [6.7]\n",
      " [6.9]\n",
      " [5.8]\n",
      " [6.8]\n",
      " [6.7]\n",
      " [6.7]\n",
      " [6.3]\n",
      " [6.5]\n",
      " [6.2]\n",
      " [5.9]]\n"
     ]
    }
   ],
   "source": [
    "import matplotlib.pyplot as plt \n",
    "import seaborn as sns \n",
    "df=sns.load_dataset(\"iris\")\n",
    "data=np.array(df[[\"sepal_length\"]])\n",
    "print(data)"
   ]
  },
  {
   "cell_type": "markdown",
   "metadata": {},
   "source": [
    "#### Rescaling sepal length "
   ]
  },
  {
   "cell_type": "code",
   "execution_count": 69,
   "metadata": {},
   "outputs": [
    {
     "name": "stdout",
     "output_type": "stream",
     "text": [
      "[[0.25925926 0.20689655 0.09090909 0.         0.12903226 0.26470588]\n",
      " [0.07407407 0.24137931 0.         0.09677419 0.25806452 0.08823529]\n",
      " [0.14814815 0.         0.42424242 0.35483871 0.25806452 0.17647059]\n",
      " [0.48148148 0.27586207 0.3030303  0.16129032 0.         0.17647059]\n",
      " [0.14814815 0.24137931 0.18181818 0.19354839 0.19354839 0.05882353]\n",
      " [0.14814815 0.37931034 0.24242424 0.29032258 0.09677419 0.14705882]\n",
      " [0.40740741 0.20689655 0.         0.16129032 0.12903226 0.        ]\n",
      " [0.         0.24137931 0.21212121 0.06451613 0.16129032 0.02941176]\n",
      " [0.33333333 0.24137931 0.78787879 0.58064516 0.74193548 0.29411765]\n",
      " [0.77777778 0.48275862 0.57575758 0.09677419 0.64516129 0.20588235]\n",
      " [0.22222222 0.55172414 0.48484848 0.48387097 0.32258065 0.64705882]\n",
      " [0.44444444 0.51724138 0.54545455 0.32258065 0.41935484 0.47058824]\n",
      " [0.7037037  0.62068966 0.60606061 0.64516129 0.70967742 0.64705882]\n",
      " [0.59259259 0.48275862 0.33333333 0.29032258 0.38709677 0.44117647]\n",
      " [0.37037037 0.5862069  0.6969697  0.5483871  0.32258065 0.29411765]\n",
      " [0.40740741 0.62068966 0.42424242 0.12903226 0.32258065 0.35294118]\n",
      " [0.48148148 0.65517241 0.21212121 0.35483871 0.5483871  0.38235294]\n",
      " [1.         0.68965517 0.63636364 0.96774194 0.09677419 0.82352941]\n",
      " [0.85185185 1.         0.63636364 0.58064516 0.70967742 0.35294118]\n",
      " [0.51851852 0.72413793 0.63636364 1.         1.         0.44117647]\n",
      " [0.92592593 0.44827586 1.         0.5483871  0.67741935 0.79411765]\n",
      " [0.66666667 0.62068966 0.60606061 0.83870968 0.90322581 1.        ]\n",
      " [0.74074074 0.68965517 0.51515152 1.         0.5483871  0.55882353]\n",
      " [0.59259259 0.89655172 0.6969697  0.74193548 0.38709677 0.67647059]\n",
      " [0.85185185 0.82758621 0.57575758 0.61290323 0.51612903 0.41176471]]\n"
     ]
    }
   ],
   "source": [
    "data=data.reshape(-1,6)\n",
    "from sklearn.preprocessing import MinMaxScaler\n",
    "m=MinMaxScaler()\n",
    "m.fit(data)\n",
    "print(m.transform(data))"
   ]
  },
  {
   "cell_type": "markdown",
   "metadata": {},
   "source": [
    "#### Obtain array of sepal width "
   ]
  },
  {
   "cell_type": "code",
   "execution_count": 70,
   "metadata": {},
   "outputs": [
    {
     "name": "stdout",
     "output_type": "stream",
     "text": [
      "[[3.5]\n",
      " [3. ]\n",
      " [3.2]\n",
      " [3.1]\n",
      " [3.6]\n",
      " [3.9]\n",
      " [3.4]\n",
      " [3.4]\n",
      " [2.9]\n",
      " [3.1]\n",
      " [3.7]\n",
      " [3.4]\n",
      " [3. ]\n",
      " [3. ]\n",
      " [4. ]\n",
      " [4.4]\n",
      " [3.9]\n",
      " [3.5]\n",
      " [3.8]\n",
      " [3.8]\n",
      " [3.4]\n",
      " [3.7]\n",
      " [3.6]\n",
      " [3.3]\n",
      " [3.4]\n",
      " [3. ]\n",
      " [3.4]\n",
      " [3.5]\n",
      " [3.4]\n",
      " [3.2]\n",
      " [3.1]\n",
      " [3.4]\n",
      " [4.1]\n",
      " [4.2]\n",
      " [3.1]\n",
      " [3.2]\n",
      " [3.5]\n",
      " [3.6]\n",
      " [3. ]\n",
      " [3.4]\n",
      " [3.5]\n",
      " [2.3]\n",
      " [3.2]\n",
      " [3.5]\n",
      " [3.8]\n",
      " [3. ]\n",
      " [3.8]\n",
      " [3.2]\n",
      " [3.7]\n",
      " [3.3]\n",
      " [3.2]\n",
      " [3.2]\n",
      " [3.1]\n",
      " [2.3]\n",
      " [2.8]\n",
      " [2.8]\n",
      " [3.3]\n",
      " [2.4]\n",
      " [2.9]\n",
      " [2.7]\n",
      " [2. ]\n",
      " [3. ]\n",
      " [2.2]\n",
      " [2.9]\n",
      " [2.9]\n",
      " [3.1]\n",
      " [3. ]\n",
      " [2.7]\n",
      " [2.2]\n",
      " [2.5]\n",
      " [3.2]\n",
      " [2.8]\n",
      " [2.5]\n",
      " [2.8]\n",
      " [2.9]\n",
      " [3. ]\n",
      " [2.8]\n",
      " [3. ]\n",
      " [2.9]\n",
      " [2.6]\n",
      " [2.4]\n",
      " [2.4]\n",
      " [2.7]\n",
      " [2.7]\n",
      " [3. ]\n",
      " [3.4]\n",
      " [3.1]\n",
      " [2.3]\n",
      " [3. ]\n",
      " [2.5]\n",
      " [2.6]\n",
      " [3. ]\n",
      " [2.6]\n",
      " [2.3]\n",
      " [2.7]\n",
      " [3. ]\n",
      " [2.9]\n",
      " [2.9]\n",
      " [2.5]\n",
      " [2.8]\n",
      " [3.3]\n",
      " [2.7]\n",
      " [3. ]\n",
      " [2.9]\n",
      " [3. ]\n",
      " [3. ]\n",
      " [2.5]\n",
      " [2.9]\n",
      " [2.5]\n",
      " [3.6]\n",
      " [3.2]\n",
      " [2.7]\n",
      " [3. ]\n",
      " [2.5]\n",
      " [2.8]\n",
      " [3.2]\n",
      " [3. ]\n",
      " [3.8]\n",
      " [2.6]\n",
      " [2.2]\n",
      " [3.2]\n",
      " [2.8]\n",
      " [2.8]\n",
      " [2.7]\n",
      " [3.3]\n",
      " [3.2]\n",
      " [2.8]\n",
      " [3. ]\n",
      " [2.8]\n",
      " [3. ]\n",
      " [2.8]\n",
      " [3.8]\n",
      " [2.8]\n",
      " [2.8]\n",
      " [2.6]\n",
      " [3. ]\n",
      " [3.4]\n",
      " [3.1]\n",
      " [3. ]\n",
      " [3.1]\n",
      " [3.1]\n",
      " [3.1]\n",
      " [2.7]\n",
      " [3.2]\n",
      " [3.3]\n",
      " [3. ]\n",
      " [2.5]\n",
      " [3. ]\n",
      " [3.4]\n",
      " [3. ]]\n"
     ]
    }
   ],
   "source": [
    "import matplotlib.pyplot as plt \n",
    "import seaborn as sns \n",
    "df=sns.load_dataset(\"iris\")\n",
    "data=np.array(df[[\"sepal_width\"]])\n",
    "print(data)"
   ]
  },
  {
   "cell_type": "markdown",
   "metadata": {},
   "source": [
    "#### Rescaling sepal width "
   ]
  },
  {
   "cell_type": "code",
   "execution_count": 71,
   "metadata": {},
   "outputs": [
    {
     "name": "stdout",
     "output_type": "stream",
     "text": [
      "[[0.83333333 0.33333333 0.52631579 0.38095238 0.78571429 1.        ]\n",
      " [0.77777778 0.66666667 0.36842105 0.38095238 0.85714286 0.70588235]\n",
      " [0.55555556 0.33333333 0.94736842 1.         1.         0.76470588]\n",
      " [1.         1.         0.63157895 0.66666667 0.78571429 0.64705882]\n",
      " [0.77777778 0.33333333 0.63157895 0.57142857 0.64285714 0.58823529]\n",
      " [0.61111111 0.66666667 1.         0.9047619  0.42857143 0.58823529]\n",
      " [0.83333333 0.83333333 0.42105263 0.52380952 0.71428571 0.05882353]\n",
      " [0.66666667 0.75       0.84210526 0.33333333 0.92857143 0.58823529]\n",
      " [0.94444444 0.58333333 0.52631579 0.42857143 0.42857143 0.05882353]\n",
      " [0.44444444 0.16666667 0.57894737 0.04761905 0.28571429 0.29411765]\n",
      " [0.         0.33333333 0.         0.28571429 0.28571429 0.52941176]\n",
      " [0.55555556 0.08333333 0.         0.0952381  0.5        0.35294118]\n",
      " [0.27777778 0.16666667 0.36842105 0.33333333 0.21428571 0.47058824]\n",
      " [0.5        0.         0.10526316 0.04761905 0.14285714 0.29411765]\n",
      " [0.55555556 0.66666667 0.47368421 0.         0.35714286 0.17647059]\n",
      " [0.33333333 0.33333333 0.21052632 0.         0.14285714 0.47058824]\n",
      " [0.5        0.25       0.15789474 0.23809524 0.57142857 0.29411765]\n",
      " [0.55555556 0.25       0.42105263 0.33333333 0.         0.41176471]\n",
      " [0.27777778 0.83333333 0.52631579 0.19047619 0.35714286 0.17647059]\n",
      " [0.44444444 0.5        0.42105263 0.71428571 0.07142857 0.        ]\n",
      " [0.66666667 0.16666667 0.31578947 0.19047619 0.57142857 0.58823529]\n",
      " [0.44444444 0.33333333 0.31578947 0.33333333 0.21428571 0.94117647]\n",
      " [0.44444444 0.16666667 0.21052632 0.33333333 0.64285714 0.52941176]\n",
      " [0.55555556 0.41666667 0.47368421 0.38095238 0.14285714 0.58823529]\n",
      " [0.72222222 0.33333333 0.15789474 0.33333333 0.64285714 0.47058824]]\n"
     ]
    }
   ],
   "source": [
    "data=data.reshape(-1,6)\n",
    "from sklearn.preprocessing import MinMaxScaler\n",
    "m=MinMaxScaler()\n",
    "m.fit(data)\n",
    "print(m.transform(data))"
   ]
  },
  {
   "cell_type": "markdown",
   "metadata": {},
   "source": [
    "#### Obtain array of petal lenght "
   ]
  },
  {
   "cell_type": "code",
   "execution_count": 72,
   "metadata": {},
   "outputs": [
    {
     "name": "stdout",
     "output_type": "stream",
     "text": [
      "[[1.4]\n",
      " [1.4]\n",
      " [1.3]\n",
      " [1.5]\n",
      " [1.4]\n",
      " [1.7]\n",
      " [1.4]\n",
      " [1.5]\n",
      " [1.4]\n",
      " [1.5]\n",
      " [1.5]\n",
      " [1.6]\n",
      " [1.4]\n",
      " [1.1]\n",
      " [1.2]\n",
      " [1.5]\n",
      " [1.3]\n",
      " [1.4]\n",
      " [1.7]\n",
      " [1.5]\n",
      " [1.7]\n",
      " [1.5]\n",
      " [1. ]\n",
      " [1.7]\n",
      " [1.9]\n",
      " [1.6]\n",
      " [1.6]\n",
      " [1.5]\n",
      " [1.4]\n",
      " [1.6]\n",
      " [1.6]\n",
      " [1.5]\n",
      " [1.5]\n",
      " [1.4]\n",
      " [1.5]\n",
      " [1.2]\n",
      " [1.3]\n",
      " [1.4]\n",
      " [1.3]\n",
      " [1.5]\n",
      " [1.3]\n",
      " [1.3]\n",
      " [1.3]\n",
      " [1.6]\n",
      " [1.9]\n",
      " [1.4]\n",
      " [1.6]\n",
      " [1.4]\n",
      " [1.5]\n",
      " [1.4]\n",
      " [4.7]\n",
      " [4.5]\n",
      " [4.9]\n",
      " [4. ]\n",
      " [4.6]\n",
      " [4.5]\n",
      " [4.7]\n",
      " [3.3]\n",
      " [4.6]\n",
      " [3.9]\n",
      " [3.5]\n",
      " [4.2]\n",
      " [4. ]\n",
      " [4.7]\n",
      " [3.6]\n",
      " [4.4]\n",
      " [4.5]\n",
      " [4.1]\n",
      " [4.5]\n",
      " [3.9]\n",
      " [4.8]\n",
      " [4. ]\n",
      " [4.9]\n",
      " [4.7]\n",
      " [4.3]\n",
      " [4.4]\n",
      " [4.8]\n",
      " [5. ]\n",
      " [4.5]\n",
      " [3.5]\n",
      " [3.8]\n",
      " [3.7]\n",
      " [3.9]\n",
      " [5.1]\n",
      " [4.5]\n",
      " [4.5]\n",
      " [4.7]\n",
      " [4.4]\n",
      " [4.1]\n",
      " [4. ]\n",
      " [4.4]\n",
      " [4.6]\n",
      " [4. ]\n",
      " [3.3]\n",
      " [4.2]\n",
      " [4.2]\n",
      " [4.2]\n",
      " [4.3]\n",
      " [3. ]\n",
      " [4.1]\n",
      " [6. ]\n",
      " [5.1]\n",
      " [5.9]\n",
      " [5.6]\n",
      " [5.8]\n",
      " [6.6]\n",
      " [4.5]\n",
      " [6.3]\n",
      " [5.8]\n",
      " [6.1]\n",
      " [5.1]\n",
      " [5.3]\n",
      " [5.5]\n",
      " [5. ]\n",
      " [5.1]\n",
      " [5.3]\n",
      " [5.5]\n",
      " [6.7]\n",
      " [6.9]\n",
      " [5. ]\n",
      " [5.7]\n",
      " [4.9]\n",
      " [6.7]\n",
      " [4.9]\n",
      " [5.7]\n",
      " [6. ]\n",
      " [4.8]\n",
      " [4.9]\n",
      " [5.6]\n",
      " [5.8]\n",
      " [6.1]\n",
      " [6.4]\n",
      " [5.6]\n",
      " [5.1]\n",
      " [5.6]\n",
      " [6.1]\n",
      " [5.6]\n",
      " [5.5]\n",
      " [4.8]\n",
      " [5.4]\n",
      " [5.6]\n",
      " [5.1]\n",
      " [5.1]\n",
      " [5.9]\n",
      " [5.7]\n",
      " [5.2]\n",
      " [5. ]\n",
      " [5.2]\n",
      " [5.4]\n",
      " [5.1]]\n"
     ]
    }
   ],
   "source": [
    "import matplotlib.pyplot as plt \n",
    "import seaborn as sns \n",
    "df=sns.load_dataset(\"iris\")\n",
    "data=np.array(df[[\"petal_length\"]])\n",
    "print(data)"
   ]
  },
  {
   "cell_type": "markdown",
   "metadata": {},
   "source": []
  },
  {
   "cell_type": "code",
   "execution_count": 73,
   "metadata": {},
   "outputs": [
    {
     "name": "stdout",
     "output_type": "stream",
     "text": [
      "[[0.02173913 0.06       0.01818182 0.01886792 0.06779661 0.09615385]\n",
      " [0.02173913 0.08       0.03636364 0.01886792 0.08474576 0.07692308]\n",
      " [0.02173913 0.         0.         0.01886792 0.05084746 0.03846154]\n",
      " [0.08695652 0.08       0.09090909 0.01886792 0.         0.09615385]\n",
      " [0.13043478 0.1        0.07272727 0.01886792 0.06779661 0.07692308]\n",
      " [0.06521739 0.08       0.05454545 0.         0.08474576 0.        ]\n",
      " [0.         0.06       0.01818182 0.01886792 0.05084746 0.01923077]\n",
      " [0.         0.1        0.12727273 0.         0.10169492 0.03846154]\n",
      " [0.04347826 0.06       0.63636364 0.58490566 0.66101695 0.53846154]\n",
      " [0.7173913  0.68       0.63636364 0.35849057 0.61016949 0.51923077]\n",
      " [0.47826087 0.62       0.50909091 0.62264151 0.44067797 0.61538462]\n",
      " [0.69565217 0.6        0.6        0.47169811 0.6440678  0.53846154]\n",
      " [0.7826087  0.72       0.56363636 0.56603774 0.6440678  0.73076923]\n",
      " [0.69565217 0.48       0.47272727 0.43396226 0.49152542 0.75      ]\n",
      " [0.69565217 0.68       0.63636364 0.56603774 0.52542373 0.53846154]\n",
      " [0.67391304 0.7        0.50909091 0.35849057 0.54237288 0.57692308]\n",
      " [0.63043478 0.64       0.32727273 0.50943396 0.84745763 0.75      ]\n",
      " [1.         0.9        0.83636364 0.98113208 0.59322034 0.98076923]\n",
      " [0.97826087 1.         0.70909091 0.73584906 0.76271186 0.73076923]\n",
      " [0.82608696 0.84       0.78181818 1.         1.         0.73076923]\n",
      " [0.95652174 0.76       1.         0.66037736 0.79661017 0.92307692]\n",
      " [0.76086957 0.76       0.8        0.83018868 0.86440678 1.        ]\n",
      " [0.93478261 0.8        0.8        0.88679245 0.77966102 0.82692308]\n",
      " [0.76086957 0.86       0.8        0.69811321 0.69491525 0.90384615]\n",
      " [0.95652174 0.82       0.69090909 0.71698113 0.74576271 0.75      ]]\n"
     ]
    }
   ],
   "source": [
    "data=data.reshape(-1,6)\n",
    "from sklearn.preprocessing import MinMaxScaler\n",
    "m=MinMaxScaler()\n",
    "m.fit(data)\n",
    "print(m.transform(data))"
   ]
  },
  {
   "cell_type": "code",
   "execution_count": 74,
   "metadata": {},
   "outputs": [
    {
     "name": "stdout",
     "output_type": "stream",
     "text": [
      "[[0.2]\n",
      " [0.2]\n",
      " [0.2]\n",
      " [0.2]\n",
      " [0.2]\n",
      " [0.4]\n",
      " [0.3]\n",
      " [0.2]\n",
      " [0.2]\n",
      " [0.1]\n",
      " [0.2]\n",
      " [0.2]\n",
      " [0.1]\n",
      " [0.1]\n",
      " [0.2]\n",
      " [0.4]\n",
      " [0.4]\n",
      " [0.3]\n",
      " [0.3]\n",
      " [0.3]\n",
      " [0.2]\n",
      " [0.4]\n",
      " [0.2]\n",
      " [0.5]\n",
      " [0.2]\n",
      " [0.2]\n",
      " [0.4]\n",
      " [0.2]\n",
      " [0.2]\n",
      " [0.2]\n",
      " [0.2]\n",
      " [0.4]\n",
      " [0.1]\n",
      " [0.2]\n",
      " [0.2]\n",
      " [0.2]\n",
      " [0.2]\n",
      " [0.1]\n",
      " [0.2]\n",
      " [0.2]\n",
      " [0.3]\n",
      " [0.3]\n",
      " [0.2]\n",
      " [0.6]\n",
      " [0.4]\n",
      " [0.3]\n",
      " [0.2]\n",
      " [0.2]\n",
      " [0.2]\n",
      " [0.2]\n",
      " [1.4]\n",
      " [1.5]\n",
      " [1.5]\n",
      " [1.3]\n",
      " [1.5]\n",
      " [1.3]\n",
      " [1.6]\n",
      " [1. ]\n",
      " [1.3]\n",
      " [1.4]\n",
      " [1. ]\n",
      " [1.5]\n",
      " [1. ]\n",
      " [1.4]\n",
      " [1.3]\n",
      " [1.4]\n",
      " [1.5]\n",
      " [1. ]\n",
      " [1.5]\n",
      " [1.1]\n",
      " [1.8]\n",
      " [1.3]\n",
      " [1.5]\n",
      " [1.2]\n",
      " [1.3]\n",
      " [1.4]\n",
      " [1.4]\n",
      " [1.7]\n",
      " [1.5]\n",
      " [1. ]\n",
      " [1.1]\n",
      " [1. ]\n",
      " [1.2]\n",
      " [1.6]\n",
      " [1.5]\n",
      " [1.6]\n",
      " [1.5]\n",
      " [1.3]\n",
      " [1.3]\n",
      " [1.3]\n",
      " [1.2]\n",
      " [1.4]\n",
      " [1.2]\n",
      " [1. ]\n",
      " [1.3]\n",
      " [1.2]\n",
      " [1.3]\n",
      " [1.3]\n",
      " [1.1]\n",
      " [1.3]\n",
      " [2.5]\n",
      " [1.9]\n",
      " [2.1]\n",
      " [1.8]\n",
      " [2.2]\n",
      " [2.1]\n",
      " [1.7]\n",
      " [1.8]\n",
      " [1.8]\n",
      " [2.5]\n",
      " [2. ]\n",
      " [1.9]\n",
      " [2.1]\n",
      " [2. ]\n",
      " [2.4]\n",
      " [2.3]\n",
      " [1.8]\n",
      " [2.2]\n",
      " [2.3]\n",
      " [1.5]\n",
      " [2.3]\n",
      " [2. ]\n",
      " [2. ]\n",
      " [1.8]\n",
      " [2.1]\n",
      " [1.8]\n",
      " [1.8]\n",
      " [1.8]\n",
      " [2.1]\n",
      " [1.6]\n",
      " [1.9]\n",
      " [2. ]\n",
      " [2.2]\n",
      " [1.5]\n",
      " [1.4]\n",
      " [2.3]\n",
      " [2.4]\n",
      " [1.8]\n",
      " [1.8]\n",
      " [2.1]\n",
      " [2.4]\n",
      " [2.3]\n",
      " [1.9]\n",
      " [2.3]\n",
      " [2.5]\n",
      " [2.3]\n",
      " [1.9]\n",
      " [2. ]\n",
      " [2.3]\n",
      " [1.8]]\n"
     ]
    }
   ],
   "source": [
    "import matplotlib.pyplot as plt \n",
    "import seaborn as sns \n",
    "df=sns.load_dataset(\"iris\")\n",
    "data=np.array(df[[\"petal_width\"]])\n",
    "print(data)"
   ]
  },
  {
   "cell_type": "code",
   "execution_count": 75,
   "metadata": {},
   "outputs": [
    {
     "name": "stdout",
     "output_type": "stream",
     "text": [
      "[[0.04166667 0.04166667 0.04347826 0.04545455 0.         0.0952381 ]\n",
      " [0.08333333 0.04166667 0.04347826 0.         0.         0.        ]\n",
      " [0.         0.         0.04347826 0.13636364 0.08695652 0.04761905]\n",
      " [0.08333333 0.08333333 0.04347826 0.13636364 0.         0.14285714]\n",
      " [0.04166667 0.04166667 0.13043478 0.04545455 0.         0.        ]\n",
      " [0.04166667 0.125      0.         0.04545455 0.         0.        ]\n",
      " [0.04166667 0.         0.04347826 0.04545455 0.04347826 0.04761905]\n",
      " [0.04166667 0.20833333 0.13043478 0.09090909 0.         0.        ]\n",
      " [0.04166667 0.04166667 0.56521739 0.63636364 0.56521739 0.52380952]\n",
      " [0.58333333 0.5        0.65217391 0.40909091 0.47826087 0.57142857]\n",
      " [0.375      0.58333333 0.39130435 0.59090909 0.47826087 0.57142857]\n",
      " [0.58333333 0.375      0.60869565 0.45454545 0.69565217 0.52380952]\n",
      " [0.58333333 0.45833333 0.52173913 0.59090909 0.52173913 0.71428571]\n",
      " [0.58333333 0.375      0.43478261 0.40909091 0.43478261 0.66666667]\n",
      " [0.58333333 0.625      0.60869565 0.54545455 0.47826087 0.52380952]\n",
      " [0.45833333 0.54166667 0.47826087 0.40909091 0.47826087 0.47619048]\n",
      " [0.5        0.5        0.43478261 0.54545455 1.         0.80952381]\n",
      " [0.83333333 0.70833333 0.91304348 0.90909091 0.65217391 0.76190476]\n",
      " [0.70833333 1.         0.82608696 0.81818182 0.82608696 0.85714286]\n",
      " [0.95833333 0.91666667 0.73913043 0.95454545 0.91304348 0.61904762]\n",
      " [0.91666667 0.79166667 0.82608696 0.77272727 0.82608696 0.76190476]\n",
      " [0.70833333 0.70833333 0.86956522 0.68181818 0.73913043 0.85714286]\n",
      " [0.875      0.58333333 0.56521739 1.         0.95652174 0.76190476]\n",
      " [0.70833333 0.83333333 1.         1.         0.73913043 1.        ]\n",
      " [1.         0.91666667 0.7826087  0.86363636 0.91304348 0.76190476]]\n"
     ]
    }
   ],
   "source": [
    "data=data.reshape(-1,6)\n",
    "from sklearn.preprocessing import MinMaxScaler\n",
    "m=MinMaxScaler()\n",
    "m.fit(data)\n",
    "print(m.transform(data))"
   ]
  },
  {
   "cell_type": "code",
   "execution_count": null,
   "metadata": {},
   "outputs": [],
   "source": []
  }
 ],
 "metadata": {
  "kernelspec": {
   "display_name": "Python 3",
   "language": "python",
   "name": "python3"
  },
  "language_info": {
   "codemirror_mode": {
    "name": "ipython",
    "version": 3
   },
   "file_extension": ".py",
   "mimetype": "text/x-python",
   "name": "python",
   "nbconvert_exporter": "python",
   "pygments_lexer": "ipython3",
   "version": "3.8.5"
  }
 },
 "nbformat": 4,
 "nbformat_minor": 4
}
