{
 "cells": [
  {
   "cell_type": "markdown",
   "metadata": {},
   "source": [
    "### Problem Statement 1:\n",
    "Blood glucose levels for obese patients have a mean of 100 with a standard deviation of\n",
    "15. A researcher thinks that a diet high in raw cornstarch will have a positive effect on \n",
    "blood glucose levels. A sample of 36 patients who have tried the raw cornstarch diet \n",
    "have a mean glucose level of 108. Test the hypothesis that the raw cornstarch had an \n",
    "effect or not.\n"
   ]
  },
  {
   "cell_type": "code",
   "execution_count": 1,
   "metadata": {},
   "outputs": [],
   "source": [
    "import numpy as np \n",
    "import math\n",
    "from scipy.stats import norm\n",
    "import scipy.stats as stats"
   ]
  },
  {
   "cell_type": "code",
   "execution_count": 2,
   "metadata": {},
   "outputs": [
    {
     "name": "stdout",
     "output_type": "stream",
     "text": [
      "SE is  2.5\n",
      "Z-score is  3.2\n"
     ]
    }
   ],
   "source": [
    "pmean=100\n",
    "pstd=15\n",
    "n=36\n",
    "sample_mean=108\n",
    "alpha=0.05\n",
    "SE=pstd/n**0.5\n",
    "print('SE is ', SE)\n",
    "z=((sample_mean)-(pmean))/SE\n",
    "print('Z-score is ', z)"
   ]
  },
  {
   "cell_type": "markdown",
   "metadata": {},
   "source": [
    "### Problem Statement 2:\n",
    "In one state, 52% of the voters are Republicans, and 48% are Democrats. In a second \n",
    "state, 47% of the voters are Republicans, and 53% are Democrats. Suppose a simple \n",
    "random sample of 100 voters are surveyed from each state.\n",
    "What is the probability that the survey will show a greater percentage of Republican \n",
    "voters in the second state than in the first state?\n"
   ]
  },
  {
   "cell_type": "code",
   "execution_count": 3,
   "metadata": {},
   "outputs": [
    {
     "name": "stdout",
     "output_type": "stream",
     "text": [
      "mu is  0.050000000000000044\n",
      "Standard Deviation is  0.07061869440877536\n",
      "z_p1_p2 is  -0.7080278164104213\n"
     ]
    }
   ],
   "source": [
    "n1 = 100\n",
    "n2 = 100\n",
    "R1 = 0.52            #Republicans from state 1\n",
    "D1 = 0.48            #Democrats from state 1\n",
    "R2 = 0.47            #Republicans from state 2\n",
    "D2 = 0.53            #Democrats from state 2\n",
    "mu=R1-R2\n",
    "print('mu is ', mu)\n",
    "std= math.sqrt(((R1 * D1)/ n1) + ((R2 * D2)/n2))\n",
    "print('Standard Deviation is ', std)\n",
    "x=0\n",
    "z_R1_R2= (x- mu)/std\n",
    "print('z_p1_p2 is ',z_R1_R2)"
   ]
  },
  {
   "cell_type": "markdown",
   "metadata": {},
   "source": [
    "### Problem Statement 3:\n",
    "You take the SAT and score 1100. The mean score for the SAT is 1026 and the standard \n",
    "deviation is 209. How well did you score on the test compared to the average test taker?\n"
   ]
  },
  {
   "cell_type": "code",
   "execution_count": 4,
   "metadata": {},
   "outputs": [
    {
     "name": "stdout",
     "output_type": "stream",
     "text": [
      "z-score is  0.35406698564593303\n",
      "The Score is in the range 817 - 1235  with a  zscore 0.35\n"
     ]
    }
   ],
   "source": [
    "x=1100\n",
    "mu=1026\n",
    "std=209\n",
    "z=(x-mu)/std\n",
    "print('z-score is ', z)\n",
    "print(\"The Score is in the range {} - {}  with a  zscore {:.2f}\".format(mu - std,mu + std,z))\n"
   ]
  },
  {
   "cell_type": "code",
   "execution_count": null,
   "metadata": {},
   "outputs": [],
   "source": []
  }
 ],
 "metadata": {
  "kernelspec": {
   "display_name": "Python 3",
   "language": "python",
   "name": "python3"
  },
  "language_info": {
   "codemirror_mode": {
    "name": "ipython",
    "version": 3
   },
   "file_extension": ".py",
   "mimetype": "text/x-python",
   "name": "python",
   "nbconvert_exporter": "python",
   "pygments_lexer": "ipython3",
   "version": "3.8.5"
  }
 },
 "nbformat": 4,
 "nbformat_minor": 4
}
