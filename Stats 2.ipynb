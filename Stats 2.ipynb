{
 "cells": [
  {
   "cell_type": "markdown",
   "metadata": {},
   "source": [
    "Calculate the mean, median, mode and standard deviation for the problem statements 1& 2."
   ]
  },
  {
   "cell_type": "markdown",
   "metadata": {},
   "source": [
    "Problem Statement 1:<br> \n",
    "The marks awarded for an assignment set for a Year 8 class of 20 students were as \n",
    "follows:\n",
    "6 7 5 7 7 8 7 6 9 7 4 10 6 8 8 9 5 6 4 8\n"
   ]
  },
  {
   "cell_type": "code",
   "execution_count": 1,
   "metadata": {},
   "outputs": [],
   "source": [
    "import scipy\n",
    "import numpy as np \n",
    "import statistics as stats"
   ]
  },
  {
   "cell_type": "code",
   "execution_count": 2,
   "metadata": {},
   "outputs": [
    {
     "name": "stdout",
     "output_type": "stream",
     "text": [
      "Mean of the marks is  6.85\n",
      "Median of the marks is  7.0\n",
      "Mode of the marks is  7\n",
      "Standard Deviation is  1.5898113095584647\n"
     ]
    }
   ],
   "source": [
    "marks=[6, 7, 5, 7, 7, 8, 7, 6, 9, 7, 4, 10, 6, 8, 8, 9, 5, 6, 4, 8,]\n",
    "print('Mean of the marks is ', np.mean(marks))\n",
    "print('Median of the marks is ', np.median(marks))\n",
    "print('Mode of the marks is ', stats.mode(marks))\n",
    "print('Standard Deviation is ', np.std(marks))"
   ]
  },
  {
   "cell_type": "markdown",
   "metadata": {},
   "source": [
    "Problem Statement 2:<br> \n",
    "The number of calls from motorists per day for roadside service was recorded for a \n",
    "particular month:\n",
    "28, 122, 217, 130, 120, 86, 80, 90, 140, 120, 70, 40, 145, 113, 90, 68, 174, 194, 170, 100, 75, 104, 97, 75, 123, 100, 75, 104, 97, 75, 123, 100, 89, 120, 109\n"
   ]
  },
  {
   "cell_type": "code",
   "execution_count": 3,
   "metadata": {},
   "outputs": [
    {
     "name": "stdout",
     "output_type": "stream",
     "text": [
      "Mean is  107.51428571428572\n",
      "Median is  100.0\n",
      "Mode is  75\n",
      "Standard Deviation is  38.77287080168403\n"
     ]
    }
   ],
   "source": [
    "calls=[28, 122, 217, 130, 120, 86, 80, 90, 140, 120, 70, 40, 145, 113, 90, 68, 174, 194, 170, 100, 75, 104, 97, 75, 123, 100, 75, 104, 97, 75, 123, 100, 89, 120, 109]\n",
    "print('Mean is ', np.mean(calls))\n",
    "print('Median is ', np.median(calls))\n",
    "print('Mode is ', stats.mode(calls))\n",
    "print('Standard Deviation is ', np.std(calls))"
   ]
  },
  {
   "cell_type": "markdown",
   "metadata": {},
   "source": [
    "Problem Statement 3:<br>\n",
    "The number of times I go to the gym in weekdays, are given below along with its \n",
    "associated probability:<br>\n",
    "x = 0, 1, 2, 3, 4, 5<br>\n",
    "f(x) = 0.09, 0.15, 0.40, 0.25, 0.10, 0.01<br>\n",
    "Calculate the mean no. of workouts in a week. Also evaluate the variance involved in it.\n"
   ]
  },
  {
   "cell_type": "code",
   "execution_count": 4,
   "metadata": {},
   "outputs": [
    {
     "name": "stdout",
     "output_type": "stream",
     "text": [
      "Mean is  2.15\n",
      "Variance is  1.2275\n"
     ]
    }
   ],
   "source": [
    "x=[0,1,2,3,4,5]\n",
    "f_x=[0.09, 0.15, 0.40, 0.25, 0.10, 0.01]\n",
    "mean=sum(np.array(x) * np.array(f_x))\n",
    "eofxsqr= sum(np.array(x) **2 * np.array(f_x))\n",
    "\n",
    "variance= eofxsqr - (mean)**2\n",
    "print('Mean is ', mean)\n",
    "print('Variance is ', variance)"
   ]
  },
  {
   "cell_type": "markdown",
   "metadata": {},
   "source": [
    "Problem Statement 4:<br>\n",
    "Let the continuous random variable D denote the diameter of the hole drilled in an aluminum sheet. The target diameter to be achieved is 12.5mm. Random disturbances in the process often result in inaccuracy.Historical data shows that the distribution of D can be modelled by the<br>\n",
    "PDF (𝑑) = 20𝑒−20(𝑑−12.5), 𝑑 ≥ 12.5. <br>\n",
    "If a part with diameter > 12.6 mm needs to be scrapped,what is the proportion of those parts? What is the CDF when the diameter is of 11mm? What is your conclusion regarding the proportion of scraps?<br>\n"
   ]
  },
  {
   "cell_type": "code",
   "execution_count": 5,
   "metadata": {},
   "outputs": [
    {
     "name": "stdout",
     "output_type": "stream",
     "text": [
      "Proportion of Parts need to scrapped when d >12.6mm is :0.13533528323661398\n",
      "CDF when d= 11mm is:nan\n",
      "Proportion of CDF when d>12.5mm is : 1.0000000000000024\n"
     ]
    },
    {
     "name": "stderr",
     "output_type": "stream",
     "text": [
      "<ipython-input-5-c10d64359226>:2: RuntimeWarning: overflow encountered in exp\n",
      "  PDF=lambda d:20*(np.exp((-20*(d-12.5))))\n",
      "<ipython-input-5-c10d64359226>:6: IntegrationWarning: The maximum number of subdivisions (50) has been achieved.\n",
      "  If increasing the limit yields no improvement it is advised to analyze \n",
      "  the integrand in order to determine the difficulties.  If the position of a \n",
      "  local difficulty can be determined (singularity, discontinuity) one will \n",
      "  probably gain from splitting up the interval and calling the integrator \n",
      "  on the subranges.  Perhaps a special-purpose integrator should be used.\n",
      "  CDF=integrate.quad(PDF,-np.inf,y)\n"
     ]
    }
   ],
   "source": [
    "from scipy import integrate\n",
    "PDF=lambda d:20*(np.exp((-20*(d-12.5))))\n",
    "x = 12.6\n",
    "P_x=integrate.quad(PDF,12.6,np.inf)\n",
    "y = 11\n",
    "CDF=integrate.quad(PDF,-np.inf,y)\n",
    "print(f\"Proportion of Parts need to scrapped when d >12.6mm is :{P_x[0]}\")\n",
    "print(f\"CDF when d= 11mm is:{CDF[0]}\")\n",
    "print(f\"Proportion of CDF when d>12.5mm is : {integrate.quad(PDF,12.5,np.inf)[0]}\")"
   ]
  },
  {
   "cell_type": "markdown",
   "metadata": {},
   "source": [
    "#### Conclusion\n",
    "1) The function is valid upto d>=12.5<br>\n",
    "2) d<12.5, can be reworked to 12.5 which leads to no scraping<br>\n",
    "3) for d=11 pdf is not defined"
   ]
  },
  {
   "cell_type": "markdown",
   "metadata": {},
   "source": [
    "Problem Statement 5:<br>\n",
    "A company manufactures LED bulbs with a faulty rate of 30%. If I randomly select 6 chosen LEDs, what is the probability of having 2 faulty LEDs in my sample?<br> \n",
    "Calculate the average value of this process. Also evaluate the standard deviation associated with it.<br>\n"
   ]
  },
  {
   "cell_type": "code",
   "execution_count": 6,
   "metadata": {},
   "outputs": [
    {
     "name": "stdout",
     "output_type": "stream",
     "text": [
      "mean is  2.0\n",
      "Standard Deviation is  1.0\n"
     ]
    }
   ],
   "source": [
    "#faulty=0.3\n",
    "#nonfaulty=0.7\n",
    "import pandas as pd \n",
    "import seaborn as sns \n",
    "import matplotlib.pyplot as plt \n",
    "import scipy.special\n",
    "x=0.3\n",
    "y=0.7\n",
    "df=pd.DataFrame({'a':[int(i) for i in range(7)],'P_a':[scipy.special.comb(6,i)*(x**i)*(y**(6-i)) for i in range(7)]})\n",
    "df['value expected']=df['a']* df['P_a']\n",
    "mean=np.round(df['value expected'].sum())\n",
    "print('mean is ', format(mean))\n",
    "df['variance']=df['P_a']*(df['a']-mean)**2\n",
    "std=np.sqrt(df['variance'].sum())\n",
    "print('Standard Deviation is ', np.round(std))"
   ]
  },
  {
   "cell_type": "markdown",
   "metadata": {},
   "source": [
    "Problem Statement 6:<br>\n",
    "Gaurav and Barakha are both preparing for entrance exams. Gaurav attempts to solve 8 questions per day with a correction rate of 75%, while Barakha averages around 12 questions per day with a correction rate of 45%. What is the probability  that each of them will solve 5 questions correctly? What happens in cases of 4 and 6 correct solutions? What do you infer from it? What are the two main governing factors affecting their ability to solve questions correctly? Give a pictorial representation of the same to validate your answer.\n"
   ]
  },
  {
   "cell_type": "code",
   "execution_count": 7,
   "metadata": {},
   "outputs": [
    {
     "name": "stdout",
     "output_type": "stream",
     "text": [
      "Probability of solving 5 questions correctly is:0.04619989057299213\n",
      "Probability of solving 4,6 questions correctly is:0.018374956477894576\n"
     ]
    }
   ],
   "source": [
    "from scipy.stats import binom\n",
    "print(f\"Probability of solving 5 questions correctly is:{binom.pmf(5,8,0.75)*binom.pmf(5,12,0.45)}\")\n",
    "print(f\"Probability of solving 4,6 questions correctly is:{binom.pmf(4,8,0.75)*binom.pmf(6,12,0.45)}\")"
   ]
  },
  {
   "cell_type": "markdown",
   "metadata": {},
   "source": [
    "Problem Statement 7:<br>\n",
    "Customers arrive at a rate of 72 per hour to my shop. What is the probability of 𝑘 customers arriving in 4 minutes?<br>\n",
    "a) 5 customers<br>\n",
    "b) not more than 3 customers<br>\n",
    "c) more than 3 customers.<br>\n",
    "Give a pictorial representation of the same to validate your answer.\n"
   ]
  },
  {
   "cell_type": "code",
   "execution_count": 8,
   "metadata": {},
   "outputs": [
    {
     "name": "stdout",
     "output_type": "stream",
     "text": [
      " Probability of 5 customers in 4 min is : 0.17474768364388296\n",
      " Probability of arrival of not more than 3 customers in 4 min is : 0.15169069760753714\n",
      " Probability of not more than 3 customers in 4 min is : 0.7057700835034357\n"
     ]
    },
    {
     "data": {
      "image/png": "[encoded data removed]",
      "text/plain": [
       "<Figure size 720x360 with 1 Axes>"
      ]
     },
     "metadata": {
      "needs_background": "light"
     },
     "output_type": "display_data"
    }
   ],
   "source": [
    "from scipy.stats import poisson\n",
    "#1) Average of customers per 4 min\n",
    "#2) customers per min= 72/60, So customer per 4 min is 4*(72/60)\n",
    "\n",
    "mu=4*(72/60)\n",
    "print(f\" Probability of 5 customers in 4 min is : {poisson.pmf(k=5, mu=mu)}\")\n",
    "print(f\" Probability of arrival of not more than 3 customers in 4 min is : {poisson.pmf(k=3, mu=mu)}\")\n",
    "print(f\" Probability of not more than 3 customers in 4 min is : {1-poisson.cdf(k=3, mu=mu)}\")\n",
    "\n",
    "#plot\n",
    "x=list(range(0,10))\n",
    "fig,ax=plt.subplots(1,1,figsize=(10,5))\n",
    "ax.plot(x, poisson.pmf(x,mu), 'bo', ms=8, label='poisson pmf')\n",
    "ax.vlines(x,0, poisson.pmf(x, mu), colors='b', lw=5, alpha=0.5)\n",
    "plt.show()"
   ]
  },
  {
   "cell_type": "markdown",
   "metadata": {},
   "source": [
    "Problem Statement 8:<br>\n",
    "I work as a data analyst in Aeon Learning Pvt. Ltd. After analyzing data, I make reports, where I have the efficiency of entering 77 words per minute with 6 errors per hour. What is the probability that I will commit 2 errors in a 455-word financial report? What happens when the no. of words increases/decreases (in case of 1000 words, 255 words)? How is the 𝜆 affected? How does it influence the PMF? Give a pictorial representation of the same to validate your answer"
   ]
  },
  {
   "cell_type": "code",
   "execution_count": 9,
   "metadata": {},
   "outputs": [
    {
     "name": "stdout",
     "output_type": "stream",
     "text": [
      "Probability of commiting 2 errors in 455 word finanacial report : 0.09669027375144444\n",
      "Probability of commiting  errors in 1000 words : 0.23012815007300153\n",
      "Probability od commiting errors in 255 words : 0.039377135392854104\n"
     ]
    },
    {
     "data": {
      "image/png": "[encoded data removed]",
      "text/plain": [
       "<Figure size 720x360 with 1 Axes>"
      ]
     },
     "metadata": {
      "needs_background": "light"
     },
     "output_type": "display_data"
    }
   ],
   "source": [
    "#Efficiency of entering=77 words\n",
    "#error=6/hr=0.1/min\n",
    "#no of error per word= 0.1/77\n",
    "unit=0.1/77\n",
    "from scipy.stats import poisson\n",
    "def mu(n):\n",
    "    return n* unit\n",
    "print(f\"Probability of commiting 2 errors in 455 word finanacial report : {poisson.pmf(2,mu=mu(455))}\")\n",
    "print(f\"Probability of commiting  errors in 1000 words : {poisson.pmf(2,mu=mu(1000))}\")\n",
    "print(f\"Probability od commiting errors in 255 words : {poisson.pmf(2,mu=mu(255))}\")\n",
    "\n",
    "#plot\n",
    "x=range(100,1000,50)\n",
    "mu=[i*unit for i in x]\n",
    "fig,ax=plt.subplots(1,1, figsize=(10,5))\n",
    "ax.plot(x,poisson.pmf(2,mu), 'bo', ms=8, label='poissin pmf')\n",
    "ax.vlines(x,0, poisson.pmf(2,mu), colors='b', lw=5, alpha=0.5)\n",
    "plt.show()"
   ]
  },
  {
   "cell_type": "markdown",
   "metadata": {},
   "source": [
    "#### Conclusion:\n",
    "As the number of words increases probability of getting errors increases"
   ]
  },
  {
   "cell_type": "markdown",
   "metadata": {},
   "source": [
    "Problem Statement 10:<br>\n",
    "Please compute the following:<br>\n",
    "a) P(Z > 1.26), . P(Z < −0.86), P(Z > −1.37), P(−1.25 < Z < 0.37), . P(Z ≤ −4.6)<br>\n",
    "b) Find the value 𝑧 such that 𝑃(𝑍 > 𝑧) = 0.05<br>\n",
    "c) Find the value of 𝑧 such that 𝑃(−𝑧 < 𝑍 < 𝑧) = 0.99<br>\n"
   ]
  },
  {
   "cell_type": "code",
   "execution_count": 10,
   "metadata": {},
   "outputs": [
    {
     "name": "stdout",
     "output_type": "stream",
     "text": [
      "P(Z>1.26) is 0.10383\n",
      "P(Z<-0.86) is 0.19489\n",
      "P(-1.25 < Z < 0.37) is 0.53866\n",
      "P(Z<= -4.6) is 0.00000\n"
     ]
    }
   ],
   "source": [
    "from scipy.stats import norm\n",
    "def P(z,b=-np.inf):\n",
    "    return integrate.quad(norm.pdf,b,z)[0]\n",
    "print('P(Z>1.26) is %.5f'%(1-P(1.26)))\n",
    "print('P(Z<-0.86) is %.5f'%P(-0.86))\n",
    "print('P(-1.25 < Z < 0.37) is %.5f'%P(0.37, b=-1.25))\n",
    "print('P(Z<= -4.6) is %.5f'%P(-4.6))"
   ]
  },
  {
   "cell_type": "code",
   "execution_count": 11,
   "metadata": {},
   "outputs": [
    {
     "name": "stdout",
     "output_type": "stream",
     "text": [
      "P(Z>z)=0.05 is 1.64\n",
      "P(-z<Z<z)=0.99 is 2.58\n"
     ]
    }
   ],
   "source": [
    "print('P(Z>z)=0.05 is %.2f'%(-1*norm.ppf(0.05)))\n",
    "print('P(-z<Z<z)=0.99 is %.2f'%(abs(norm.ppf(0.005))))"
   ]
  },
  {
   "cell_type": "markdown",
   "metadata": {},
   "source": [
    "Problem Statement 11:<br>\n",
    "The current flow in a copper wire follow a normal distribution with a mean of 10 𝑚A and a variance of 4 (𝑚𝐴)2.What is the probability that a current measurement will exceed 13 𝑚𝐴? What is the probability that a current measurement is between 9 and 11mA? Determine the current measurement which has a probability of 0.98"
   ]
  },
  {
   "cell_type": "code",
   "execution_count": 12,
   "metadata": {},
   "outputs": [
    {
     "name": "stdout",
     "output_type": "stream",
     "text": [
      "Probability of current > 13mA = : 0.06680720126885797\n",
      "Probability of current between 9mA and 11mA = : 1.3085375387259144\n"
     ]
    }
   ],
   "source": [
    "mean=10\n",
    "std=np.sqrt(4)\n",
    "def I(z,b=-np.inf):\n",
    "    z=(z-mean)/std\n",
    "    return integrate.quad(norm.pdf, b,z)[0]\n",
    "print(f\"Probability of current > 13mA = : {1-I(13)}\")\n",
    "print(f\"Probability of current between 9mA and 11mA = : {1-I(11, b=9)}\")"
   ]
  },
  {
   "cell_type": "markdown",
   "metadata": {},
   "source": [
    "Problem Statement 12:<br>\n",
    "The shaft in a piston has its diameter normally distributed with a mean of 0.2508 inch and a standard deviation of 0.0005 inch. The specifications of the shaft are 0.2500 ∓ 0.0015 inch. What proportion of shafts are in sync with the specifications? If the  process is centered so that the mean is equal to the target value of 0.2500, what proportion of shafts conform to the new specifications? What is your conclusion from this experiment?\n"
   ]
  },
  {
   "cell_type": "code",
   "execution_count": 13,
   "metadata": {},
   "outputs": [
    {
     "name": "stdout",
     "output_type": "stream",
     "text": [
      "Proportion of shafts with dia in range of 0.2485<d<0.2515 when mean diameter:(0.2508, None)\n",
      "Proportion of shafts with dia in range of 0.2485<d<0.2515 when mean diameter:(0.25, None)\n"
     ]
    }
   ],
   "source": [
    "mean_dia=0.2508\n",
    "std_dia=0.0005\n",
    "#specified dia in the range of 0.2485<d<0.2515\n",
    "#case-1 if mean_dia=0.2508\n",
    "def I(mean,std,a,b) :\n",
    "  #gives P(Z<=x)\n",
    "  a=(a-mean)/std\n",
    "  b=(b-mean)/std\n",
    "print(f\"Proportion of shafts with dia in range of 0.2485<d<0.2515 when mean diameter:{0.2508,I(0.2508,0.0005,0.2485,0.2515)}\")\n",
    "print(f\"Proportion of shafts with dia in range of 0.2485<d<0.2515 when mean diameter:{0.2500,I(0.2500,0.0005,0.2485,0.2515)}\")\n"
   ]
  }
 ],
 "metadata": {
  "kernelspec": {
   "display_name": "Python 3",
   "language": "python",
   "name": "python3"
  },
  "language_info": {
   "codemirror_mode": {
    "name": "ipython",
    "version": 3
   },
   "file_extension": ".py",
   "mimetype": "text/x-python",
   "name": "python",
   "nbconvert_exporter": "python",
   "pygments_lexer": "ipython3",
   "version": "3.8.5"
  }
 },
 "nbformat": 4,
 "nbformat_minor": 4
}
